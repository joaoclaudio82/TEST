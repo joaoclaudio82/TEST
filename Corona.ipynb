{
  "nbformat": 4,
  "nbformat_minor": 0,
  "metadata": {
    "kernelspec": {
      "display_name": "Python 3",
      "language": "python",
      "name": "python3"
    },
    "language_info": {
      "codemirror_mode": {
        "name": "ipython",
        "version": 3
      },
      "file_extension": ".py",
      "mimetype": "text/x-python",
      "name": "python",
      "nbconvert_exporter": "python",
      "pygments_lexer": "ipython3",
      "version": "3.7.6"
    },
    "colab": {
      "name": "Corona.ipynb",
      "provenance": [],
      "include_colab_link": true
    }
  },
  "cells": [
    {
      "cell_type": "markdown",
      "metadata": {
        "id": "view-in-github",
        "colab_type": "text"
      },
      "source": [
        "<a href=\"https://colab.research.google.com/github/joaoclaudio82/TEST/blob/master/Corona.ipynb\" target=\"_parent\"><img src=\"https://colab.research.google.com/assets/colab-badge.svg\" alt=\"Open In Colab\"/></a>"
      ]
    },
    {
      "cell_type": "code",
      "metadata": {
        "id": "ErK33NwQAMja",
        "colab_type": "code",
        "colab": {}
      },
      "source": [
        "import pandas as pd\n",
        "\n",
        "df = pd.read_csv(\"https://raw.githubusercontent.com/wcota/covid19br/master/cases-brazil-states.csv\")\n"
      ],
      "execution_count": 0,
      "outputs": []
    },
    {
      "cell_type": "markdown",
      "metadata": {
        "id": "iN7RHRFlANZu",
        "colab_type": "text"
      },
      "source": [
        "**importa-se os dados de \"https://raw.githubusercontent.com/wcota/covid19br/master/cases-brazil-states.csv\"**"
      ]
    },
    {
      "cell_type": "code",
      "metadata": {
        "id": "ZOdXsvoTAMjh",
        "colab_type": "code",
        "outputId": "0b4c3a0e-9b11-4f9d-ad7f-c81e679bc074",
        "colab": {
          "base_uri": "https://localhost:8080/",
          "height": 34
        }
      },
      "source": [
        "df.index"
      ],
      "execution_count": 66,
      "outputs": [
        {
          "output_type": "execute_result",
          "data": {
            "text/plain": [
              "RangeIndex(start=0, stop=400, step=1)"
            ]
          },
          "metadata": {
            "tags": []
          },
          "execution_count": 66
        }
      ]
    },
    {
      "cell_type": "code",
      "metadata": {
        "id": "AqfVH37zAMjl",
        "colab_type": "code",
        "outputId": "35df676f-c831-4ca0-99ab-0a831f06a9f8",
        "colab": {
          "base_uri": "https://localhost:8080/",
          "height": 34
        }
      },
      "source": [
        "df.columns"
      ],
      "execution_count": 67,
      "outputs": [
        {
          "output_type": "execute_result",
          "data": {
            "text/plain": [
              "Index(['date', 'country', 'state', 'city', 'newCases', 'totalCases'], dtype='object')"
            ]
          },
          "metadata": {
            "tags": []
          },
          "execution_count": 67
        }
      ]
    },
    {
      "cell_type": "code",
      "metadata": {
        "id": "SBpOHbL-AMjo",
        "colab_type": "code",
        "outputId": "5ce58e46-a526-40d0-f024-4303e4ef7611",
        "colab": {
          "base_uri": "https://localhost:8080/",
          "height": 136
        }
      },
      "source": [
        "df.values\n"
      ],
      "execution_count": 68,
      "outputs": [
        {
          "output_type": "execute_result",
          "data": {
            "text/plain": [
              "array([['2020-02-25', 'Brazil', 'SP', 'TOTAL', 1, 1],\n",
              "       ['2020-02-25', 'Brazil', 'TOTAL', 'TOTAL', 1, 1],\n",
              "       ['2020-02-29', 'Brazil', 'SP', 'TOTAL', 1, 2],\n",
              "       ...,\n",
              "       ['2020-03-26', 'Brazil', 'AP', 'TOTAL', 0, 2],\n",
              "       ['2020-03-26', 'Brazil', 'RR', 'TOTAL', 0, 8],\n",
              "       ['2020-03-26', 'Brazil', 'TOTAL', 'TOTAL', 40, 2609]], dtype=object)"
            ]
          },
          "metadata": {
            "tags": []
          },
          "execution_count": 68
        }
      ]
    },
    {
      "cell_type": "code",
      "metadata": {
        "id": "1D3tZNgIAMjw",
        "colab_type": "code",
        "outputId": "99abba0c-d264-48f1-cac1-5644c03f2baf",
        "colab": {
          "base_uri": "https://localhost:8080/",
          "height": 824
        }
      },
      "source": [
        "df1=df.query('state==\"CE\"')\n",
        "df2=df.query('state==\"SP\"')\n",
        "df3=df.query('state==\"RJ\"')\n",
        "\n",
        "df2\n"
      ],
      "execution_count": 69,
      "outputs": [
        {
          "output_type": "execute_result",
          "data": {
            "text/html": [
              "<div>\n",
              "<style scoped>\n",
              "    .dataframe tbody tr th:only-of-type {\n",
              "        vertical-align: middle;\n",
              "    }\n",
              "\n",
              "    .dataframe tbody tr th {\n",
              "        vertical-align: top;\n",
              "    }\n",
              "\n",
              "    .dataframe thead th {\n",
              "        text-align: right;\n",
              "    }\n",
              "</style>\n",
              "<table border=\"1\" class=\"dataframe\">\n",
              "  <thead>\n",
              "    <tr style=\"text-align: right;\">\n",
              "      <th></th>\n",
              "      <th>date</th>\n",
              "      <th>country</th>\n",
              "      <th>state</th>\n",
              "      <th>city</th>\n",
              "      <th>newCases</th>\n",
              "      <th>totalCases</th>\n",
              "    </tr>\n",
              "  </thead>\n",
              "  <tbody>\n",
              "    <tr>\n",
              "      <th>0</th>\n",
              "      <td>2020-02-25</td>\n",
              "      <td>Brazil</td>\n",
              "      <td>SP</td>\n",
              "      <td>TOTAL</td>\n",
              "      <td>1</td>\n",
              "      <td>1</td>\n",
              "    </tr>\n",
              "    <tr>\n",
              "      <th>2</th>\n",
              "      <td>2020-02-29</td>\n",
              "      <td>Brazil</td>\n",
              "      <td>SP</td>\n",
              "      <td>TOTAL</td>\n",
              "      <td>1</td>\n",
              "      <td>2</td>\n",
              "    </tr>\n",
              "    <tr>\n",
              "      <th>4</th>\n",
              "      <td>2020-03-04</td>\n",
              "      <td>Brazil</td>\n",
              "      <td>SP</td>\n",
              "      <td>TOTAL</td>\n",
              "      <td>1</td>\n",
              "      <td>3</td>\n",
              "    </tr>\n",
              "    <tr>\n",
              "      <th>6</th>\n",
              "      <td>2020-03-05</td>\n",
              "      <td>Brazil</td>\n",
              "      <td>SP</td>\n",
              "      <td>TOTAL</td>\n",
              "      <td>3</td>\n",
              "      <td>6</td>\n",
              "    </tr>\n",
              "    <tr>\n",
              "      <th>10</th>\n",
              "      <td>2020-03-06</td>\n",
              "      <td>Brazil</td>\n",
              "      <td>SP</td>\n",
              "      <td>TOTAL</td>\n",
              "      <td>4</td>\n",
              "      <td>10</td>\n",
              "    </tr>\n",
              "    <tr>\n",
              "      <th>15</th>\n",
              "      <td>2020-03-07</td>\n",
              "      <td>Brazil</td>\n",
              "      <td>SP</td>\n",
              "      <td>TOTAL</td>\n",
              "      <td>3</td>\n",
              "      <td>13</td>\n",
              "    </tr>\n",
              "    <tr>\n",
              "      <th>21</th>\n",
              "      <td>2020-03-08</td>\n",
              "      <td>Brazil</td>\n",
              "      <td>SP</td>\n",
              "      <td>TOTAL</td>\n",
              "      <td>3</td>\n",
              "      <td>16</td>\n",
              "    </tr>\n",
              "    <tr>\n",
              "      <th>30</th>\n",
              "      <td>2020-03-09</td>\n",
              "      <td>Brazil</td>\n",
              "      <td>SP</td>\n",
              "      <td>TOTAL</td>\n",
              "      <td>0</td>\n",
              "      <td>16</td>\n",
              "    </tr>\n",
              "    <tr>\n",
              "      <th>37</th>\n",
              "      <td>2020-03-10</td>\n",
              "      <td>Brazil</td>\n",
              "      <td>SP</td>\n",
              "      <td>TOTAL</td>\n",
              "      <td>3</td>\n",
              "      <td>19</td>\n",
              "    </tr>\n",
              "    <tr>\n",
              "      <th>46</th>\n",
              "      <td>2020-03-11</td>\n",
              "      <td>Brazil</td>\n",
              "      <td>SP</td>\n",
              "      <td>TOTAL</td>\n",
              "      <td>26</td>\n",
              "      <td>45</td>\n",
              "    </tr>\n",
              "    <tr>\n",
              "      <th>55</th>\n",
              "      <td>2020-03-12</td>\n",
              "      <td>Brazil</td>\n",
              "      <td>SP</td>\n",
              "      <td>TOTAL</td>\n",
              "      <td>19</td>\n",
              "      <td>64</td>\n",
              "    </tr>\n",
              "    <tr>\n",
              "      <th>74</th>\n",
              "      <td>2020-03-13</td>\n",
              "      <td>Brazil</td>\n",
              "      <td>SP</td>\n",
              "      <td>TOTAL</td>\n",
              "      <td>0</td>\n",
              "      <td>64</td>\n",
              "    </tr>\n",
              "    <tr>\n",
              "      <th>94</th>\n",
              "      <td>2020-03-14</td>\n",
              "      <td>Brazil</td>\n",
              "      <td>SP</td>\n",
              "      <td>TOTAL</td>\n",
              "      <td>1</td>\n",
              "      <td>65</td>\n",
              "    </tr>\n",
              "    <tr>\n",
              "      <th>101</th>\n",
              "      <td>2020-03-15</td>\n",
              "      <td>Brazil</td>\n",
              "      <td>SP</td>\n",
              "      <td>TOTAL</td>\n",
              "      <td>71</td>\n",
              "      <td>136</td>\n",
              "    </tr>\n",
              "    <tr>\n",
              "      <th>119</th>\n",
              "      <td>2020-03-16</td>\n",
              "      <td>Brazil</td>\n",
              "      <td>SP</td>\n",
              "      <td>TOTAL</td>\n",
              "      <td>16</td>\n",
              "      <td>152</td>\n",
              "    </tr>\n",
              "    <tr>\n",
              "      <th>137</th>\n",
              "      <td>2020-03-17</td>\n",
              "      <td>Brazil</td>\n",
              "      <td>SP</td>\n",
              "      <td>TOTAL</td>\n",
              "      <td>12</td>\n",
              "      <td>164</td>\n",
              "    </tr>\n",
              "    <tr>\n",
              "      <th>157</th>\n",
              "      <td>2020-03-18</td>\n",
              "      <td>Brazil</td>\n",
              "      <td>SP</td>\n",
              "      <td>TOTAL</td>\n",
              "      <td>80</td>\n",
              "      <td>244</td>\n",
              "    </tr>\n",
              "    <tr>\n",
              "      <th>180</th>\n",
              "      <td>2020-03-19</td>\n",
              "      <td>Brazil</td>\n",
              "      <td>SP</td>\n",
              "      <td>TOTAL</td>\n",
              "      <td>43</td>\n",
              "      <td>287</td>\n",
              "    </tr>\n",
              "    <tr>\n",
              "      <th>205</th>\n",
              "      <td>2020-03-20</td>\n",
              "      <td>Brazil</td>\n",
              "      <td>SP</td>\n",
              "      <td>TOTAL</td>\n",
              "      <td>109</td>\n",
              "      <td>396</td>\n",
              "    </tr>\n",
              "    <tr>\n",
              "      <th>232</th>\n",
              "      <td>2020-03-21</td>\n",
              "      <td>Brazil</td>\n",
              "      <td>SP</td>\n",
              "      <td>TOTAL</td>\n",
              "      <td>63</td>\n",
              "      <td>459</td>\n",
              "    </tr>\n",
              "    <tr>\n",
              "      <th>260</th>\n",
              "      <td>2020-03-22</td>\n",
              "      <td>Brazil</td>\n",
              "      <td>SP</td>\n",
              "      <td>TOTAL</td>\n",
              "      <td>172</td>\n",
              "      <td>631</td>\n",
              "    </tr>\n",
              "    <tr>\n",
              "      <th>288</th>\n",
              "      <td>2020-03-23</td>\n",
              "      <td>Brazil</td>\n",
              "      <td>SP</td>\n",
              "      <td>TOTAL</td>\n",
              "      <td>114</td>\n",
              "      <td>745</td>\n",
              "    </tr>\n",
              "    <tr>\n",
              "      <th>316</th>\n",
              "      <td>2020-03-24</td>\n",
              "      <td>Brazil</td>\n",
              "      <td>SP</td>\n",
              "      <td>TOTAL</td>\n",
              "      <td>65</td>\n",
              "      <td>810</td>\n",
              "    </tr>\n",
              "    <tr>\n",
              "      <th>344</th>\n",
              "      <td>2020-03-25</td>\n",
              "      <td>Brazil</td>\n",
              "      <td>SP</td>\n",
              "      <td>TOTAL</td>\n",
              "      <td>52</td>\n",
              "      <td>862</td>\n",
              "    </tr>\n",
              "    <tr>\n",
              "      <th>376</th>\n",
              "      <td>2020-03-26</td>\n",
              "      <td>Brazil</td>\n",
              "      <td>SP</td>\n",
              "      <td>TOTAL</td>\n",
              "      <td>0</td>\n",
              "      <td>862</td>\n",
              "    </tr>\n",
              "  </tbody>\n",
              "</table>\n",
              "</div>"
            ],
            "text/plain": [
              "           date country state   city  newCases  totalCases\n",
              "0    2020-02-25  Brazil    SP  TOTAL         1           1\n",
              "2    2020-02-29  Brazil    SP  TOTAL         1           2\n",
              "4    2020-03-04  Brazil    SP  TOTAL         1           3\n",
              "6    2020-03-05  Brazil    SP  TOTAL         3           6\n",
              "10   2020-03-06  Brazil    SP  TOTAL         4          10\n",
              "15   2020-03-07  Brazil    SP  TOTAL         3          13\n",
              "21   2020-03-08  Brazil    SP  TOTAL         3          16\n",
              "30   2020-03-09  Brazil    SP  TOTAL         0          16\n",
              "37   2020-03-10  Brazil    SP  TOTAL         3          19\n",
              "46   2020-03-11  Brazil    SP  TOTAL        26          45\n",
              "55   2020-03-12  Brazil    SP  TOTAL        19          64\n",
              "74   2020-03-13  Brazil    SP  TOTAL         0          64\n",
              "94   2020-03-14  Brazil    SP  TOTAL         1          65\n",
              "101  2020-03-15  Brazil    SP  TOTAL        71         136\n",
              "119  2020-03-16  Brazil    SP  TOTAL        16         152\n",
              "137  2020-03-17  Brazil    SP  TOTAL        12         164\n",
              "157  2020-03-18  Brazil    SP  TOTAL        80         244\n",
              "180  2020-03-19  Brazil    SP  TOTAL        43         287\n",
              "205  2020-03-20  Brazil    SP  TOTAL       109         396\n",
              "232  2020-03-21  Brazil    SP  TOTAL        63         459\n",
              "260  2020-03-22  Brazil    SP  TOTAL       172         631\n",
              "288  2020-03-23  Brazil    SP  TOTAL       114         745\n",
              "316  2020-03-24  Brazil    SP  TOTAL        65         810\n",
              "344  2020-03-25  Brazil    SP  TOTAL        52         862\n",
              "376  2020-03-26  Brazil    SP  TOTAL         0         862"
            ]
          },
          "metadata": {
            "tags": []
          },
          "execution_count": 69
        }
      ]
    },
    {
      "cell_type": "code",
      "metadata": {
        "id": "MF3vNkDpAMj0",
        "colab_type": "code",
        "colab": {}
      },
      "source": [
        "import matplotlib.pyplot as plt\n",
        "y1= df1['totalCases']\n",
        "N1 = len(y1)\n",
        "x1 = range(N1)\n",
        "\n",
        "y2= df2['totalCases']\n",
        "N2 = len(y2)\n",
        "x2 = range(N2)\n",
        "\n",
        "y3= df3['totalCases']\n",
        "N3 = len(y3)\n",
        "x3 = range(N3)\n"
      ],
      "execution_count": 0,
      "outputs": []
    },
    {
      "cell_type": "code",
      "metadata": {
        "id": "spkSTUeRAMj3",
        "colab_type": "code",
        "outputId": "81d2de0b-0373-4eea-a886-979fe0a0ca30",
        "colab": {
          "base_uri": "https://localhost:8080/",
          "height": 34
        }
      },
      "source": [
        "plt.rcParams['figure.figsize'] = (11,7)\n",
        "plt.savefig('nome_da_imagem.png')\n",
        "plt.savefig('nome_da_imagem.png', transparent = True)\n",
        "\n",
        "\n"
      ],
      "execution_count": 71,
      "outputs": [
        {
          "output_type": "display_data",
          "data": {
            "text/plain": [
              "<Figure size 792x504 with 0 Axes>"
            ]
          },
          "metadata": {
            "tags": []
          }
        }
      ]
    },
    {
      "cell_type": "code",
      "metadata": {
        "id": "BhAJ8j1O-gaZ",
        "colab_type": "code",
        "outputId": "b971f537-3c83-4005-bef6-1965c58dea7c",
        "colab": {
          "base_uri": "https://localhost:8080/",
          "height": 475
        }
      },
      "source": [
        "plt.plot(x1, y1)\n",
        "plt.plot(x2, y2)\n",
        "plt.plot(x3, y3)\n",
        "plt.title('QUANTIDADE DE CASOS CONFIRMADOS')\n",
        "plt.xlabel('DIAS')\n",
        "plt.ylabel('QUANTIDADE')\n",
        "\n",
        "plt.annotate('CEARÁ', xy=(5,70),\n",
        "             arrowprops=dict(arrowstyle='->'), xytext=(5,100))\n",
        "plt.annotate('RIO DE JANEIRO', xy=(15,100),\n",
        "             arrowprops=dict(arrowstyle='->'), xytext=(15,170))\n",
        "plt.annotate('SÃO PAULO', xy=(10,70),\n",
        "             arrowprops=dict(arrowstyle='->'), xytext=(10,100))"
      ],
      "execution_count": 72,
      "outputs": [
        {
          "output_type": "execute_result",
          "data": {
            "text/plain": [
              "Text(10, 100, 'SÃO PAULO')"
            ]
          },
          "metadata": {
            "tags": []
          },
          "execution_count": 72
        },
        {
          "output_type": "display_data",
          "data": {
            "image/png": "[encoded data removed]",
            "text/plain": [
              "<Figure size 792x504 with 1 Axes>"
            ]
          },
          "metadata": {
            "tags": []
          }
        }
      ]
    },
    {
      "cell_type": "code",
      "metadata": {
        "id": "utVuDP3ZAMkD",
        "colab_type": "code",
        "outputId": "b0ca55e2-45f0-441d-cc32-dbec26904a3e",
        "colab": {
          "base_uri": "https://localhost:8080/",
          "height": 421
        }
      },
      "source": [
        "y11= df1['newCases']\n",
        "N1 = len(y11)\n",
        "x11 = range(N1)\n",
        "\n",
        "plt.figure(figsize=(8, 6))\n",
        "plt.bar(x11, y11)\n",
        "\n",
        "\n",
        "plt.title('QUANTIDADE DE NOVOS CASOS CONFIRMADOS CEARÁ')\n",
        "plt.xlabel('DIAS')\n",
        "plt.ylabel('QUANTIDADE')"
      ],
      "execution_count": 73,
      "outputs": [
        {
          "output_type": "execute_result",
          "data": {
            "text/plain": [
              "Text(0, 0.5, 'QUANTIDADE')"
            ]
          },
          "metadata": {
            "tags": []
          },
          "execution_count": 73
        },
        {
          "output_type": "display_data",
          "data": {
            "image/png": "[encoded data removed]",
            "text/plain": [
              "<Figure size 576x432 with 1 Axes>"
            ]
          },
          "metadata": {
            "tags": []
          }
        }
      ]
    },
    {
      "cell_type": "code",
      "metadata": {
        "id": "eKAd1AunrqJ-",
        "colab_type": "code",
        "outputId": "6728b7ae-2ee0-4689-c389-80758df68ef2",
        "colab": {
          "base_uri": "https://localhost:8080/",
          "height": 421
        }
      },
      "source": [
        "\n",
        "y22= df2['newCases']\n",
        "N2 = len(y22)\n",
        "x22 = range(N2)\n",
        "\n",
        "plt.figure(figsize=(8, 6))\n",
        "plt.bar(x22, y22, color='red')\n",
        "\n",
        "\n",
        "plt.title('QUANTIDADE DE NOVOS CASOS CONFIRMADOS')\n",
        "plt.xlabel('DIAS')\n",
        "plt.ylabel('QUANTIDADE')\n",
        "\n"
      ],
      "execution_count": 74,
      "outputs": [
        {
          "output_type": "execute_result",
          "data": {
            "text/plain": [
              "Text(0, 0.5, 'QUANTIDADE')"
            ]
          },
          "metadata": {
            "tags": []
          },
          "execution_count": 74
        },
        {
          "output_type": "display_data",
          "data": {
            "image/png": "[encoded data removed]",
            "text/plain": [
              "<Figure size 576x432 with 1 Axes>"
            ]
          },
          "metadata": {
            "tags": []
          }
        }
      ]
    },
    {
      "cell_type": "code",
      "metadata": {
        "id": "JUTs767eyLuY",
        "colab_type": "code",
        "outputId": "3db05a2f-52de-478c-caf0-dcfa54f20e22",
        "colab": {
          "base_uri": "https://localhost:8080/",
          "height": 421
        }
      },
      "source": [
        "y33= df3['newCases']\n",
        "N2 = len(y33)\n",
        "x33 = range(N2)\n",
        "\n",
        "plt.figure(figsize=(8, 6))\n",
        "plt.bar(x33, y33, color='yellow')\n",
        "\n",
        "\n",
        "plt.title('QUANTIDADE DE NOVOS CASOS CONFIRMADOS')\n",
        "plt.xlabel('DIAS')\n",
        "plt.ylabel('QUANTIDADE')"
      ],
      "execution_count": 75,
      "outputs": [
        {
          "output_type": "execute_result",
          "data": {
            "text/plain": [
              "Text(0, 0.5, 'QUANTIDADE')"
            ]
          },
          "metadata": {
            "tags": []
          },
          "execution_count": 75
        },
        {
          "output_type": "display_data",
          "data": {
            "image/png": "[encoded data removed]",
            "text/plain": [
              "<Figure size 576x432 with 1 Axes>"
            ]
          },
          "metadata": {
            "tags": []
          }
        }
      ]
    },
    {
      "cell_type": "code",
      "metadata": {
        "id": "D9BwvjdByTSV",
        "colab_type": "code",
        "outputId": "8b775df3-bf8f-4b04-998c-e1fd7aa913a8",
        "colab": {
          "base_uri": "https://localhost:8080/",
          "height": 233
        }
      },
      "source": [
        "plt.figure(figsize=(9, 3))\n",
        "\n",
        "plt.subplot(131)\n",
        "plt.bar(x11, y11, color='blue')\n",
        "plt.subplot(132)\n",
        "plt.bar(x22, y22, color='red')\n",
        "plt.subplot(133)\n",
        "plt.bar(x33, y33, color='yellow')\n",
        "plt.suptitle('QUANTIDADE DE NOVOS CASOS CONFIRMADOS')\n",
        "plt.show()"
      ],
      "execution_count": 76,
      "outputs": [
        {
          "output_type": "display_data",
          "data": {
            "image/png": "[encoded data removed]",
            "text/plain": [
              "<Figure size 648x216 with 3 Axes>"
            ]
          },
          "metadata": {
            "tags": []
          }
        }
      ]
    },
    {
      "cell_type": "code",
      "metadata": {
        "id": "W2Di3r9l0RJX",
        "colab_type": "code",
        "colab": {}
      },
      "source": [
        "df4 = pd.read_csv(\"https://raw.githubusercontent.com/wcota/covid19br/master/cases-brazil-total.csv\")\n",
        "\n"
      ],
      "execution_count": 0,
      "outputs": []
    },
    {
      "cell_type": "code",
      "metadata": {
        "id": "ngircEoF9-kW",
        "colab_type": "code",
        "outputId": "302460e6-bf80-46a5-e0be-ad00a200ff58",
        "colab": {
          "base_uri": "https://localhost:8080/",
          "height": 917
        }
      },
      "source": [
        "df4"
      ],
      "execution_count": 78,
      "outputs": [
        {
          "output_type": "execute_result",
          "data": {
            "text/html": [
              "<div>\n",
              "<style scoped>\n",
              "    .dataframe tbody tr th:only-of-type {\n",
              "        vertical-align: middle;\n",
              "    }\n",
              "\n",
              "    .dataframe tbody tr th {\n",
              "        vertical-align: top;\n",
              "    }\n",
              "\n",
              "    .dataframe thead th {\n",
              "        text-align: right;\n",
              "    }\n",
              "</style>\n",
              "<table border=\"1\" class=\"dataframe\">\n",
              "  <thead>\n",
              "    <tr style=\"text-align: right;\">\n",
              "      <th></th>\n",
              "      <th>country</th>\n",
              "      <th>state</th>\n",
              "      <th>totalCases</th>\n",
              "      <th>totalCasesMS</th>\n",
              "      <th>notConfirmedByMS</th>\n",
              "      <th>deaths</th>\n",
              "      <th>URL</th>\n",
              "    </tr>\n",
              "  </thead>\n",
              "  <tbody>\n",
              "    <tr>\n",
              "      <th>0</th>\n",
              "      <td>Brazil</td>\n",
              "      <td>TOTAL</td>\n",
              "      <td>2609</td>\n",
              "      <td>2433</td>\n",
              "      <td>176</td>\n",
              "      <td>57</td>\n",
              "      <td>http://plataforma.saude.gov.br/novocoronavirus/</td>\n",
              "    </tr>\n",
              "    <tr>\n",
              "      <th>1</th>\n",
              "      <td>Brazil</td>\n",
              "      <td>SP</td>\n",
              "      <td>862</td>\n",
              "      <td>862</td>\n",
              "      <td>0</td>\n",
              "      <td>48</td>\n",
              "      <td>http://www.saopaulo.sp.gov.br/</td>\n",
              "    </tr>\n",
              "    <tr>\n",
              "      <th>2</th>\n",
              "      <td>Brazil</td>\n",
              "      <td>RJ</td>\n",
              "      <td>370</td>\n",
              "      <td>370</td>\n",
              "      <td>0</td>\n",
              "      <td>6</td>\n",
              "      <td>http://www.rj.gov.br/</td>\n",
              "    </tr>\n",
              "    <tr>\n",
              "      <th>3</th>\n",
              "      <td>Brazil</td>\n",
              "      <td>ES</td>\n",
              "      <td>40</td>\n",
              "      <td>39</td>\n",
              "      <td>1</td>\n",
              "      <td>0</td>\n",
              "      <td>https://saude.es.gov.br/</td>\n",
              "    </tr>\n",
              "    <tr>\n",
              "      <th>4</th>\n",
              "      <td>Brazil</td>\n",
              "      <td>BA</td>\n",
              "      <td>104</td>\n",
              "      <td>84</td>\n",
              "      <td>20</td>\n",
              "      <td>0</td>\n",
              "      <td>http://www.saude.ba.gov.br/</td>\n",
              "    </tr>\n",
              "    <tr>\n",
              "      <th>5</th>\n",
              "      <td>Brazil</td>\n",
              "      <td>DF</td>\n",
              "      <td>195</td>\n",
              "      <td>160</td>\n",
              "      <td>35</td>\n",
              "      <td>0</td>\n",
              "      <td>http://www.saude.df.gov.br/coronavirus/</td>\n",
              "    </tr>\n",
              "    <tr>\n",
              "      <th>6</th>\n",
              "      <td>Brazil</td>\n",
              "      <td>AL</td>\n",
              "      <td>11</td>\n",
              "      <td>11</td>\n",
              "      <td>0</td>\n",
              "      <td>0</td>\n",
              "      <td>http://cidadao.saude.al.gov.br/</td>\n",
              "    </tr>\n",
              "    <tr>\n",
              "      <th>7</th>\n",
              "      <td>Brazil</td>\n",
              "      <td>MG</td>\n",
              "      <td>153</td>\n",
              "      <td>133</td>\n",
              "      <td>20</td>\n",
              "      <td>0</td>\n",
              "      <td>https://www.saude.mg.gov.br/</td>\n",
              "    </tr>\n",
              "    <tr>\n",
              "      <th>8</th>\n",
              "      <td>Brazil</td>\n",
              "      <td>RS</td>\n",
              "      <td>162</td>\n",
              "      <td>123</td>\n",
              "      <td>39</td>\n",
              "      <td>1</td>\n",
              "      <td>https://saude.rs.gov.br</td>\n",
              "    </tr>\n",
              "    <tr>\n",
              "      <th>9</th>\n",
              "      <td>Brazil</td>\n",
              "      <td>PE</td>\n",
              "      <td>46</td>\n",
              "      <td>46</td>\n",
              "      <td>0</td>\n",
              "      <td>1</td>\n",
              "      <td>http://www.pe.gov.br/blog/saude/</td>\n",
              "    </tr>\n",
              "    <tr>\n",
              "      <th>10</th>\n",
              "      <td>Brazil</td>\n",
              "      <td>PR</td>\n",
              "      <td>97</td>\n",
              "      <td>81</td>\n",
              "      <td>16</td>\n",
              "      <td>0</td>\n",
              "      <td>http://www.saude.pr.gov.br/</td>\n",
              "    </tr>\n",
              "    <tr>\n",
              "      <th>11</th>\n",
              "      <td>Brazil</td>\n",
              "      <td>SC</td>\n",
              "      <td>122</td>\n",
              "      <td>109</td>\n",
              "      <td>13</td>\n",
              "      <td>0</td>\n",
              "      <td>http://www.saude.sc.gov.br</td>\n",
              "    </tr>\n",
              "    <tr>\n",
              "      <th>12</th>\n",
              "      <td>Brazil</td>\n",
              "      <td>GO</td>\n",
              "      <td>35</td>\n",
              "      <td>29</td>\n",
              "      <td>6</td>\n",
              "      <td>0</td>\n",
              "      <td>http://www.saude.go.gov.br/</td>\n",
              "    </tr>\n",
              "    <tr>\n",
              "      <th>13</th>\n",
              "      <td>Brazil</td>\n",
              "      <td>RN</td>\n",
              "      <td>19</td>\n",
              "      <td>14</td>\n",
              "      <td>5</td>\n",
              "      <td>0</td>\n",
              "      <td>http://www.natal.rn.gov.br/</td>\n",
              "    </tr>\n",
              "    <tr>\n",
              "      <th>14</th>\n",
              "      <td>Brazil</td>\n",
              "      <td>AM</td>\n",
              "      <td>54</td>\n",
              "      <td>54</td>\n",
              "      <td>0</td>\n",
              "      <td>1</td>\n",
              "      <td>http://www.amazonas.am.gov.br/</td>\n",
              "    </tr>\n",
              "    <tr>\n",
              "      <th>15</th>\n",
              "      <td>Brazil</td>\n",
              "      <td>MS</td>\n",
              "      <td>24</td>\n",
              "      <td>24</td>\n",
              "      <td>0</td>\n",
              "      <td>0</td>\n",
              "      <td>http://www.ms.gov.br/</td>\n",
              "    </tr>\n",
              "    <tr>\n",
              "      <th>16</th>\n",
              "      <td>Brazil</td>\n",
              "      <td>SE</td>\n",
              "      <td>16</td>\n",
              "      <td>16</td>\n",
              "      <td>0</td>\n",
              "      <td>0</td>\n",
              "      <td>https://www.se.gov.br/noticias/saude</td>\n",
              "    </tr>\n",
              "    <tr>\n",
              "      <th>17</th>\n",
              "      <td>Brazil</td>\n",
              "      <td>CE</td>\n",
              "      <td>211</td>\n",
              "      <td>200</td>\n",
              "      <td>11</td>\n",
              "      <td>0</td>\n",
              "      <td>https://www.saude.ce.gov.br</td>\n",
              "    </tr>\n",
              "    <tr>\n",
              "      <th>18</th>\n",
              "      <td>Brazil</td>\n",
              "      <td>AC</td>\n",
              "      <td>23</td>\n",
              "      <td>23</td>\n",
              "      <td>0</td>\n",
              "      <td>0</td>\n",
              "      <td>http://saude.acre.gov.br/</td>\n",
              "    </tr>\n",
              "    <tr>\n",
              "      <th>19</th>\n",
              "      <td>Brazil</td>\n",
              "      <td>MT</td>\n",
              "      <td>11</td>\n",
              "      <td>8</td>\n",
              "      <td>3</td>\n",
              "      <td>0</td>\n",
              "      <td>http://www.saude.mt.gov.br/</td>\n",
              "    </tr>\n",
              "    <tr>\n",
              "      <th>20</th>\n",
              "      <td>Brazil</td>\n",
              "      <td>TO</td>\n",
              "      <td>7</td>\n",
              "      <td>7</td>\n",
              "      <td>0</td>\n",
              "      <td>0</td>\n",
              "      <td>http://www.saude.to.gov.br/</td>\n",
              "    </tr>\n",
              "    <tr>\n",
              "      <th>21</th>\n",
              "      <td>Brazil</td>\n",
              "      <td>PA</td>\n",
              "      <td>9</td>\n",
              "      <td>7</td>\n",
              "      <td>2</td>\n",
              "      <td>0</td>\n",
              "      <td>http://www.saude.pa.gov.br</td>\n",
              "    </tr>\n",
              "    <tr>\n",
              "      <th>22</th>\n",
              "      <td>Brazil</td>\n",
              "      <td>PB</td>\n",
              "      <td>5</td>\n",
              "      <td>3</td>\n",
              "      <td>2</td>\n",
              "      <td>0</td>\n",
              "      <td>https://paraiba.pb.gov.br/</td>\n",
              "    </tr>\n",
              "    <tr>\n",
              "      <th>23</th>\n",
              "      <td>Brazil</td>\n",
              "      <td>PI</td>\n",
              "      <td>8</td>\n",
              "      <td>8</td>\n",
              "      <td>0</td>\n",
              "      <td>0</td>\n",
              "      <td>https://www.pi.gov.br/noticias</td>\n",
              "    </tr>\n",
              "    <tr>\n",
              "      <th>24</th>\n",
              "      <td>Brazil</td>\n",
              "      <td>RO</td>\n",
              "      <td>5</td>\n",
              "      <td>5</td>\n",
              "      <td>0</td>\n",
              "      <td>0</td>\n",
              "      <td>http://www.rondonia.ro.gov.br/</td>\n",
              "    </tr>\n",
              "    <tr>\n",
              "      <th>25</th>\n",
              "      <td>Brazil</td>\n",
              "      <td>AP</td>\n",
              "      <td>2</td>\n",
              "      <td>1</td>\n",
              "      <td>1</td>\n",
              "      <td>0</td>\n",
              "      <td>https://saude.portal.ap.gov.br/</td>\n",
              "    </tr>\n",
              "    <tr>\n",
              "      <th>26</th>\n",
              "      <td>Brazil</td>\n",
              "      <td>MA</td>\n",
              "      <td>10</td>\n",
              "      <td>8</td>\n",
              "      <td>2</td>\n",
              "      <td>0</td>\n",
              "      <td>http://www.saude.ma.gov.br/</td>\n",
              "    </tr>\n",
              "    <tr>\n",
              "      <th>27</th>\n",
              "      <td>Brazil</td>\n",
              "      <td>RR</td>\n",
              "      <td>8</td>\n",
              "      <td>8</td>\n",
              "      <td>0</td>\n",
              "      <td>0</td>\n",
              "      <td>https://saude.rr.gov.br/</td>\n",
              "    </tr>\n",
              "  </tbody>\n",
              "</table>\n",
              "</div>"
            ],
            "text/plain": [
              "   country  state  ...  deaths                                              URL\n",
              "0   Brazil  TOTAL  ...      57  http://plataforma.saude.gov.br/novocoronavirus/\n",
              "1   Brazil     SP  ...      48                   http://www.saopaulo.sp.gov.br/\n",
              "2   Brazil     RJ  ...       6                            http://www.rj.gov.br/\n",
              "3   Brazil     ES  ...       0                         https://saude.es.gov.br/\n",
              "4   Brazil     BA  ...       0                      http://www.saude.ba.gov.br/\n",
              "5   Brazil     DF  ...       0          http://www.saude.df.gov.br/coronavirus/\n",
              "6   Brazil     AL  ...       0                  http://cidadao.saude.al.gov.br/\n",
              "7   Brazil     MG  ...       0                     https://www.saude.mg.gov.br/\n",
              "8   Brazil     RS  ...       1                          https://saude.rs.gov.br\n",
              "9   Brazil     PE  ...       1                 http://www.pe.gov.br/blog/saude/\n",
              "10  Brazil     PR  ...       0                      http://www.saude.pr.gov.br/\n",
              "11  Brazil     SC  ...       0                       http://www.saude.sc.gov.br\n",
              "12  Brazil     GO  ...       0                      http://www.saude.go.gov.br/\n",
              "13  Brazil     RN  ...       0                      http://www.natal.rn.gov.br/\n",
              "14  Brazil     AM  ...       1                   http://www.amazonas.am.gov.br/\n",
              "15  Brazil     MS  ...       0                            http://www.ms.gov.br/\n",
              "16  Brazil     SE  ...       0             https://www.se.gov.br/noticias/saude\n",
              "17  Brazil     CE  ...       0                      https://www.saude.ce.gov.br\n",
              "18  Brazil     AC  ...       0                        http://saude.acre.gov.br/\n",
              "19  Brazil     MT  ...       0                      http://www.saude.mt.gov.br/\n",
              "20  Brazil     TO  ...       0                      http://www.saude.to.gov.br/\n",
              "21  Brazil     PA  ...       0                       http://www.saude.pa.gov.br\n",
              "22  Brazil     PB  ...       0                       https://paraiba.pb.gov.br/\n",
              "23  Brazil     PI  ...       0                   https://www.pi.gov.br/noticias\n",
              "24  Brazil     RO  ...       0                   http://www.rondonia.ro.gov.br/\n",
              "25  Brazil     AP  ...       0                  https://saude.portal.ap.gov.br/\n",
              "26  Brazil     MA  ...       0                      http://www.saude.ma.gov.br/\n",
              "27  Brazil     RR  ...       0                         https://saude.rr.gov.br/\n",
              "\n",
              "[28 rows x 7 columns]"
            ]
          },
          "metadata": {
            "tags": []
          },
          "execution_count": 78
        }
      ]
    },
    {
      "cell_type": "code",
      "metadata": {
        "id": "X8amEhPx-D7x",
        "colab_type": "code",
        "outputId": "143e408e-f845-44ba-ba4c-ca573be0e540",
        "colab": {
          "base_uri": "https://localhost:8080/",
          "height": 475
        }
      },
      "source": [
        "y44= df4['totalCases']\n",
        "x44 = df4['state']\n",
        "plt.bar(x44, y44, color='BLUE')\n",
        "plt.title('QUANTIDADE DE CASOS POR ESTADO')\n",
        "plt.xlabel('estado')\n",
        "plt.ylabel('QUANTIDADE')"
      ],
      "execution_count": 79,
      "outputs": [
        {
          "output_type": "execute_result",
          "data": {
            "text/plain": [
              "Text(0, 0.5, 'QUANTIDADE')"
            ]
          },
          "metadata": {
            "tags": []
          },
          "execution_count": 79
        },
        {
          "output_type": "display_data",
          "data": {
            "image/png": "[encoded data removed]",
            "text/plain": [
              "<Figure size 792x504 with 1 Axes>"
            ]
          },
          "metadata": {
            "tags": []
          }
        }
      ]
    },
    {
      "cell_type": "code",
      "metadata": {
        "id": "zSPr3L4K-dRW",
        "colab_type": "code",
        "outputId": "d0ffe3e6-bada-489c-c1b3-5c04cc7ee703",
        "colab": {
          "base_uri": "https://localhost:8080/",
          "height": 475
        }
      },
      "source": [
        "y55= df4['deaths']\n",
        "x55 = df4['state']\n",
        "plt.bar(x55, y55, color='BLUE')\n",
        "plt.title('QUANTIDADE DE MORTES POR ESTADO')\n",
        "plt.xlabel('estado')\n",
        "plt.ylabel('QUANTIDADE')"
      ],
      "execution_count": 80,
      "outputs": [
        {
          "output_type": "execute_result",
          "data": {
            "text/plain": [
              "Text(0, 0.5, 'QUANTIDADE')"
            ]
          },
          "metadata": {
            "tags": []
          },
          "execution_count": 80
        },
        {
          "output_type": "display_data",
          "data": {
            "image/png": "[encoded data removed]",
            "text/plain": [
              "<Figure size 792x504 with 1 Axes>"
            ]
          },
          "metadata": {
            "tags": []
          }
        }
      ]
    },
    {
      "cell_type": "code",
      "metadata": {
        "id": "1v_xq8f3-ujH",
        "colab_type": "code",
        "outputId": "403d69ba-8fe0-4ca1-f65c-8154f5b786dd",
        "colab": {
          "base_uri": "https://localhost:8080/",
          "height": 625
        }
      },
      "source": [
        "\n",
        "v11=y11/x11\n",
        "v22=y22/x22\n",
        "v33=y33/x33\n",
        "\n",
        "plt.figure(figsize=(8, 6))\n",
        "plt.plot(x11, v11, label='Ceará')\n",
        "\n",
        "plt.legend()\n",
        "\n",
        "\n",
        "plt.title('VELOCIDADE DE CRESCIMENTO DE NOVOS CASOS CONFIRMADOS CEARÁ')\n",
        "plt.xlabel('DIAS')\n",
        "plt.ylabel('velocidade')\n",
        "v11"
      ],
      "execution_count": 112,
      "outputs": [
        {
          "output_type": "execute_result",
          "data": {
            "text/plain": [
              "106         inf\n",
              "131    6.000000\n",
              "147    1.000000\n",
              "166    3.000000\n",
              "193    1.250000\n",
              "220    8.600000\n",
              "247    2.666667\n",
              "272    5.857143\n",
              "300    4.875000\n",
              "329    2.333333\n",
              "354    2.600000\n",
              "389    0.000000\n",
              "Name: newCases, dtype: float64"
            ]
          },
          "metadata": {
            "tags": []
          },
          "execution_count": 112
        },
        {
          "output_type": "display_data",
          "data": {
            "image/png": "[encoded data removed]",
            "text/plain": [
              "<Figure size 576x432 with 1 Axes>"
            ]
          },
          "metadata": {
            "tags": []
          }
        }
      ]
    },
    {
      "cell_type": "markdown",
      "metadata": {
        "id": "bIdd7g0W6aRK",
        "colab_type": "text"
      },
      "source": [
        "Growth Factor of Daily New Cases\n",
        "Growth factor is the factor by which a quantity multiplies itself over time. The formula used is every day's new cases / new cases on the previous day. For example, a quantity growing by 7% every period (in this case daily) has a growth factor of 1.07.\n",
        "\n",
        "A growth factor above 1 indicates an increase, whereas one which remains between 0 and 1 it is a sign of decline, with the quantity eventually becoming zero, whereas a growth factor constantly above 1 could signal exponential growth"
      ]
    },
    {
      "cell_type": "code",
      "metadata": {
        "colab_type": "code",
        "id": "ZNTS8DXiSveJ",
        "colab": {
          "base_uri": "https://localhost:8080/",
          "height": 391
        },
        "outputId": "8e593b25-f4d4-4e78-9bd2-e4fa76fe9a9d"
      },
      "source": [
        "\n",
        "     []1vel =[]\n",
        "\n",
        "or i in range(taxa.size):\n",
        ".append(taxa.reset_index(drop=True)[i])\n",
        "\n",
        "df6 = []\n",
        "tamanho = len(df5) -1\n",
        "for i in range(tamanho):\n",
        "     df6.append(df5[i+1]\n",
        "     if df5[i]==0:\n",
        "       df5[i] =1/df5[i])\n",
        "\n",
        "for i in range(tamanho):\n",
        "      len(df6)\n",
        "xvv = range(xv)\n",
        "plt.figure(figsize=(8, 6))\n",
        "plt.plot(xvv, df6, label='Ceará')\n",
        "plt.legend()\n",
        "\n",
        "VELOCIDADE DE CRESCIMENTO DE NOVOS CASOS CONFIRMADOS CEARÁ')\n",
        "ange(taxa.size):\n",
        "     df52append(taxa.reset_index(drop=True)[i])\n",
        "\n",
        "df6 = [3\n",
        "tamanho = len(df5) -1\n",
        "for i in range(tamanho):\n",
        "     if df5[i]==0:\n",
        "       df5[i] =1\n",
        "\n",
        "for i in range(tamanho):\n",
        "     df6.append(df5[i+1]/df5[i])\n",
        "\n",
        "xv = len(df6)\n",
        "xvv = range(xv)\n",
        "plt.figure(figsize=(8, 6))\n",
        "plt.plot(xvv, df6, label='Ceará')\n",
        "plt.legend()\n",
        "\n",
        "\n",
        "plt.title('VELOCIDADE DE CRESCIMENTO DE NOVOS CASOS CONFIRMADOS CEARÁ')\n",
        "SPvelocidade')\n",
        "l='Ceará')\n",
        "plt.legend()\n",
        "    "
      ],
      "execution_count": 119,
      "outputs": [
        {
          "output_type": "execute_result",
          "data": {
            "text/plain": [
              "<matplotlib.legend.Legend at 0x7f77f5ed2898>"
            ]
          },
          "metadata": {
            "tags": []
          },
          "execution_count": 119
        },
        {
          "output_type": "display_data",
          "data": {
            "image/png": "[encoded data removed]",
            "text/plain": [
              "<Figure size 576x432 with 1 Axes>"
            ]
          },
          "metadata": {
            "tags": []
          }
        }
      ]
    },
    {
      "cell_type": "code",
      "metadata": {
        "colab_type": "code",
        "outputId": "98652858-e3ac-4081-9485-35e127922b36",
        "id": "0tq3tdPiSrXg",
        "colab": {
          "base_uri": "https://localhost:8080/",
          "height": 238
        }
      },
      "source": [
        "df1['newCases']ue)"
      ],
      "execution_count": 120,
      "outputs": [
        {
          "output_type": "execute_result",
          "data": {
            "text/plain": [
              "106     3\n",
              "131     6\n",
              "147     2\n",
              "166     9\n",
              "193     5\n",
              "220    43\n",
              "247    16\n",
              "272    41\n",
              "300    39\n",
              "329    21\n",
              "354    26\n",
              "389     0\n",
              "Name: newCases, dtype: int64"
            ]
          },
          "metadata": {
            "tags": []
          },
          "execution_count": 120
        }
      ]
    },
    {
      "cell_type": "code",
      "metadata": {
        "id": "codvkTFb13ID",
        "colab_type": "code",
        "colab": {}
      },
      "source": [
        ""
      ],
      "execution_count": 0,
      "outputs": []
    },
    {
      "cell_type": "code",
      "metadata": {
        "colab_type": "code",
        "id": "sXGb3h5WTkBm",
        "colab": {}
      },
      "source": [
        ""
      ],
      "execution_count": 0,
      "outputs": []
    },
    {
      "cell_type": "code",
      "metadata": {
        "colab_type": "code",
        "id": "opN_ueTVTjn2",
        "colab": {}
      },
      "source": [
        ""
      ],
      "execution_count": 0,
      "outputs": []
    },
    {
      "cell_type": "code",
      "metadata": {
        "colab_type": "code",
        "id": "ZzBBCOPaSwil",
        "colab": {}
      },
      "source": [
        ""
      ],
      "execution_count": 0,
      "outputs": []
    },
    {
      "cell_type": "code",
      "metadata": {
        "id": "D9-CoQYwPlMk",
        "colab_type": "code",
        "colab": {}
      },
      "source": [
        ""
      ],
      "execution_count": 0,
      "outputs": []
    },
    {
      "cell_type": "code",
      "metadata": {
        "colab_type": "code",
        "id": "08LvdciySqfX",
        "colab": {}
      },
      "source": [
        ""
      ],
      "execution_count": 0,
      "outputs": []
    }
  ]
}